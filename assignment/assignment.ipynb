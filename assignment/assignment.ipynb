{
  "cells": [
    {
      "cell_type": "markdown",
      "id": "13ad028b-72b7-43ed-aa78-96fd4e518040",
      "metadata": {
        "id": "13ad028b-72b7-43ed-aa78-96fd4e518040"
      },
      "source": [
        "# Assignment: Data Wrangling\n",
        "## `! git clone https://github.com/DS3001/wrangling`"
      ]
    },
    {
      "cell_type": "markdown",
      "id": "5735a4d4-8be8-433a-a351-70eb8002e632",
      "metadata": {
        "id": "5735a4d4-8be8-433a-a351-70eb8002e632"
      },
      "source": [
        "**Q1.** Open the \"tidy_data.pdf\" document in the repo, which is a paper called Tidy Data by Hadley Wickham.\n",
        "\n",
        "  1. Read the abstract. What is this paper about?\n",
        "* How to organize data in a standardized format for ease of analysis.\n",
        "<br />\n",
        "  2. Read the introduction. What is the \"tidy data standard\" intended to accomplish?\n",
        "\n",
        "* To make initial data cleaning easier by using repetitive methods\n",
        "<br />\n",
        "  3. Read the intro to section 2. What does this sentence mean: \"Like families, tidy datasets are all alike but every messy dataset is messy in its own way.\"\n",
        "  What does this sentence mean: \"For a given dataset, it’s usually easy to figure out what are observations and what are variables, but it is surprisingly difficult to precisely define variables and observations in general.\"\n",
        "\n",
        "* Tidy datasets all have specific frameworks and messy datasets are all missing aspects of such frameworks\n",
        "* Different analyses of the same dataset evaluate multiple relationships between variables and require different definitions of the values within a table\n",
        "<br />\n",
        "  4. Read Section 2.2. How does Wickham define values, variables, and observations?\n",
        "\n",
        "* Values: numbers or strings\n",
        "* Variables: all values that measure the same attribute\n",
        "* Observations: all values measured on the same unit across attributes\n",
        "<br />\n",
        "  5. How is \"Tidy Data\" defined in section 2.3?\n",
        "\n",
        "* Each variable forms a column\n",
        "* Each observation forms a row\n",
        "* Each type of observational unit forms a table\n",
        "<br />\n",
        "  6. Read the intro to Section 3 and Section 3.1. What are the 5 most common problems with messy datasets? Why are the data in Table 4 messy? What is \"melting\" a dataset?\n",
        "\n",
        "* Column headers are values, not variable names\n",
        "* Multiple variables are stored in one column\n",
        "* Variables are stored in both rows and columns\n",
        "* Multiple types of observational units are stored in the same table\n",
        "* A single observational unit is stored in multiple tables\n",
        "\n",
        " * The data is Table 4 has numbers as headings\n",
        "* Melting a dataset consists of turning columns into rows\n",
        "<br />\n",
        "  7. Why, specifically, is table 11 messy but table 12 tidy and \"molten\"?\n",
        "\n",
        "* In table 11, the variables are stored in both the rows and columns (e.g. each day is spread across columns) but in table 12, the days, months, and year are concised into the date column and the tmax and tmin variables are given their own column instead of being contained within one column, \"element\"\n",
        "<br />\n",
        "  8. Read Section 6. What is the \"chicken-and-egg\" problem with focusing on tidy data? What does Wickham hope happens in the future with further work on the subject of data wrangling?\n",
        "  \n",
        "* Want to improve the dataset by using better tidying tools, but innovating such tools is difficult as they must be tested on datasets already tidied by tidying tools\n"
      ]
    },
    {
      "cell_type": "markdown",
      "id": "da879ea7-8aac-48a3-b6c2-daea56d2e072",
      "metadata": {
        "id": "da879ea7-8aac-48a3-b6c2-daea56d2e072"
      },
      "source": [
        "**Q2.** This question provides some practice cleaning variables which have common problems.\n",
        "1. Numeric variable: For `./data/airbnb_hw.csv`, clean the `Price` variable as well as you can, and explain the choices you make. How many missing values do you end up with? (Hint: What happens to the formatting when a price goes over 999 dollars, say from 675 to 1,112?)\n",
        "2. Categorical variable: For the `./data/sharks.csv` data covered in the lecture, clean the \"Type\" variable as well as you can, and explain the choices you make.\n",
        "3. Dummy variable: For the pretrial data covered in the lecture, clean the `WhetherDefendantWasReleasedPretrial` variable as well as you can, and, in particular, replace missing values with `np.nan`.\n",
        "4. Missing values, not at random: For the pretrial data covered in the lecture, clean the `ImposedSentenceAllChargeInContactEvent` variable as well as you can, and explain the choices you make. (Hint: Look at the `SentenceTypeAllChargesAtConvictionInContactEvent` variable.)"
      ]
    },
    {
      "cell_type": "code",
      "source": [
        "import pandas as pd\n",
        "import numpy as np\n",
        "\n",
        "from google.colab import drive\n",
        "# drive.mount('/content/gdrive')\n",
        "df = pd.read_csv(\"gdrive/My Drive/airbnb_hw.csv\", low_memory = False)\n",
        "print(df.shape)\n",
        "print(df.dtypes)\n",
        "print(df.columns[1:5])\n"
      ],
      "metadata": {
        "colab": {
          "base_uri": "https://localhost:8080/"
        },
        "id": "U70zBWKlL9QJ",
        "outputId": "1109d8ea-e933-453d-df3f-e5980ab7f12d"
      },
      "id": "U70zBWKlL9QJ",
      "execution_count": 44,
      "outputs": [
        {
          "output_type": "stream",
          "name": "stdout",
          "text": [
            "(30478, 13)\n",
            "Host Id                         int64\n",
            "Host Since                     object\n",
            "Name                           object\n",
            "Neighbourhood                  object\n",
            "Property Type                  object\n",
            "Review Scores Rating (bin)    float64\n",
            "Room Type                      object\n",
            "Zipcode                       float64\n",
            "Beds                          float64\n",
            "Number of Records               int64\n",
            "Number Of Reviews               int64\n",
            "Price                          object\n",
            "Review Scores Rating          float64\n",
            "dtype: object\n",
            "Index(['Host Since', 'Name', 'Neighbourhood ', 'Property Type'], dtype='object')\n"
          ]
        }
      ]
    },
    {
      "cell_type": "code",
      "source": [
        "# print(df.iloc[0:5,0:5],'\\n') # Show the zero-th to fourth rows/zero-th to seventh columns\n",
        "print(df.loc[0:10,('Price')],'\\n')\n",
        "\n",
        "var = 'Price'\n",
        "# formatting over 999 adds a comma when all values should be numerical\n",
        "df[var] = df[var].str.replace(',','')\n",
        "\n"
      ],
      "metadata": {
        "colab": {
          "base_uri": "https://localhost:8080/"
        },
        "id": "QJ8KxaurOZuP",
        "outputId": "c7c257f3-38cc-487a-c9a4-ce67d517e531"
      },
      "id": "QJ8KxaurOZuP",
      "execution_count": 46,
      "outputs": [
        {
          "output_type": "stream",
          "name": "stdout",
          "text": [
            "0     145\n",
            "1      37\n",
            "2      28\n",
            "3     199\n",
            "4     549\n",
            "5     149\n",
            "6     250\n",
            "7      90\n",
            "8     270\n",
            "9     290\n",
            "10    170\n",
            "Name: Price, dtype: object \n",
            "\n"
          ]
        }
      ]
    },
    {
      "cell_type": "code",
      "source": [
        "print(df[var].unique(),'\\n') # 'n' is not listed in the codebook\n",
        "print(df[var].value_counts(), '\\n') #\n",
        "var = pd.to_numeric(var, errors ='coerce')\n",
        "# print(df[var].hist())\n",
        ""
      ],
      "metadata": {
        "id": "rnlHynrWUzeo",
        "outputId": "269cc687-9d37-4bf6-be26-703a8cd66833",
        "colab": {
          "base_uri": "https://localhost:8080/"
        }
      },
      "id": "rnlHynrWUzeo",
      "execution_count": 47,
      "outputs": [
        {
          "output_type": "stream",
          "name": "stdout",
          "text": [
            "['145' '37' '28' '199' '549' '149' '250' '90' '270' '290' '170' '59' '49'\n",
            " '68' '285' '75' '100' '150' '700' '125' '175' '40' '89' '95' '99' '499'\n",
            " '120' '79' '110' '180' '143' '230' '350' '135' '85' '60' '70' '55' '44'\n",
            " '200' '165' '115' '74' '84' '129' '50' '185' '80' '190' '140' '45' '65'\n",
            " '225' '600' '109' '1990' '73' '240' '72' '105' '155' '160' '42' '132'\n",
            " '117' '295' '280' '159' '107' '69' '239' '220' '399' '130' '375' '585'\n",
            " '275' '139' '260' '35' '133' '300' '289' '179' '98' '195' '29' '27' '39'\n",
            " '249' '192' '142' '169' '1000' '131' '138' '113' '122' '329' '101' '475'\n",
            " '238' '272' '308' '126' '235' '315' '248' '128' '56' '207' '450' '215'\n",
            " '210' '385' '445' '136' '247' '118' '77' '76' '92' '198' '205' '299'\n",
            " '222' '245' '104' '153' '349' '114' '320' '292' '226' '420' '500' '325'\n",
            " '307' '78' '265' '108' '123' '189' '32' '58' '86' '219' '800' '335' '63'\n",
            " '229' '425' '67' '87' '1200' '158' '650' '234' '310' '695' '400' '166'\n",
            " '119' '62' '168' '340' '479' '43' '395' '144' '52' '47' '529' '187' '209'\n",
            " '233' '82' '269' '163' '172' '305' '156' '550' '435' '137' '124' '48'\n",
            " '279' '330' '5000' '134' '378' '97' '277' '64' '193' '147' '186' '264'\n",
            " '30' '3000' '112' '94' '379' '57' '415' '236' '410' '214' '88' '66' '71'\n",
            " '171' '157' '545' '1500' '83' '96' '1800' '81' '188' '380' '255' '505'\n",
            " '54' '33' '174' '93' '740' '640' '1300' '440' '599' '357' '1239' '495'\n",
            " '127' '5999' '178' '348' '152' '242' '183' '253' '750' '259' '365' '273'\n",
            " '197' '397' '103' '389' '355' '559' '38' '203' '999' '141' '162' '333'\n",
            " '698' '46' '360' '895' '10' '41' '206' '281' '449' '388' '212' '102'\n",
            " '201' '2750' '4750' '432' '675' '167' '390' '298' '339' '194' '302' '211'\n",
            " '595' '191' '53' '361' '480' '8000' '4500' '459' '997' '345' '216' '218'\n",
            " '111' '735' '276' '91' '490' '850' '398' '36' '775' '267' '625' '336'\n",
            " '2500' '176' '725' '3750' '469' '106' '460' '287' '575' '227' '263' '25'\n",
            " '228' '208' '177' '880' '148' '116' '685' '470' '217' '164' '61' '645'\n",
            " '699' '405' '252' '319' '268' '419' '343' '525' '311' '840' '154' '294'\n",
            " '950' '409' '184' '257' '204' '241' '2000' '412' '121' '288' '196' '900'\n",
            " '647' '524' '1750' '309' '510' '1495' '1700' '799' '383' '372' '492'\n",
            " '327' '1999' '656' '224' '173' '875' '1170' '795' '690' '146' '465'\n",
            " '1100' '151' '274' '429' '825' '282' '256' '1111' '620' '271' '161' '51'\n",
            " '855' '579' '1174' '430' '20' '899' '649' '485' '181' '455' '4000' '243'\n",
            " '342' '590' '560' '374' '437' '232' '359' '985' '31' '244' '254' '723'\n",
            " '237' '428' '370' '34' '1400' '580' '2520' '221' '749' '1600' '2695'\n",
            " '306' '202' '680' '570' '520' '223' '2295' '213' '1065' '346' '24' '286'\n",
            " '296' '266' '26' '995' '1368' '393' '182' '635' '258' '780' '589' '347'\n",
            " '1250' '1350' '446' '3200' '1050' '1650' '1550' '975' '323' '6500' '2499'\n",
            " '1850' '2250' '715' '461' '540' '356' '439' '384' '569' '1900' '22' '785'\n",
            " '626' '830' '318' '444' '321' '401' '1499' '888' '369' '770' '386' '366'\n",
            " '344' '630' '313' '597' '262' '509' '10000' '278' '312' '789' '1195'\n",
            " '422' '21' '765' '3500' '945' '326' '3100' '2486' '3390' '1356' '2599'\n",
            " '472' '454' '328' '396' '291'] \n",
            "\n",
            "150     1481\n",
            "100     1207\n",
            "200     1059\n",
            "125      889\n",
            "75       873\n",
            "        ... \n",
            "840        1\n",
            "306        1\n",
            "2695       1\n",
            "2520       1\n",
            "291        1\n",
            "Name: Price, Length: 511, dtype: int64 \n",
            "\n"
          ]
        }
      ]
    },
    {
      "cell_type": "markdown",
      "id": "649494cd-cfd6-4f80-992a-9994fc19e1d5",
      "metadata": {
        "id": "649494cd-cfd6-4f80-992a-9994fc19e1d5"
      },
      "source": [
        "**Q3.** Many important datasets contain a race variable, typically limited to a handful of values often including Black, White, Asian, Latino, and Indigenous. This question looks at data gathering efforts on this variable by the U.S. Federal government.\n",
        "\n",
        "1. How did the most recent US Census gather data on race?\n",
        "2. Why do we gather these data? What role do these kinds of data play in politics and society? Why does data quality matter?\n",
        "3. Please provide a constructive criticism of how the Census was conducted: What was done well? What do you think was missing? How should future large scale surveys be adjusted to best reflect the diversity of the population? Could some of the Census' good practices be adopted more widely to gather richer and more useful data?\n",
        "4. How did the Census gather data on sex and gender? Please provide a similar constructive criticism of their practices.\n",
        "5. When it comes to cleaning data, what concerns do you have about protected characteristics like sex, gender, sexual identity, or race? What challenges can you imagine arising when there are missing values? What good or bad practices might people adopt, and why?\n",
        "6. Suppose someone invented an algorithm to impute values for protected characteristics like race, gender, sex, or sexuality. What kinds of concerns would you have?"
      ]
    }
  ],
  "metadata": {
    "colab": {
      "provenance": []
    },
    "kernelspec": {
      "display_name": "Python 3 (ipykernel)",
      "language": "python",
      "name": "python3"
    },
    "language_info": {
      "codemirror_mode": {
        "name": "ipython",
        "version": 3
      },
      "file_extension": ".py",
      "mimetype": "text/x-python",
      "name": "python",
      "nbconvert_exporter": "python",
      "pygments_lexer": "ipython3",
      "version": "3.10.4"
    }
  },
  "nbformat": 4,
  "nbformat_minor": 5
}